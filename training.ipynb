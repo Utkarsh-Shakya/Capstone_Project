{
 "cells": [
  {
   "cell_type": "markdown",
   "source": [
    "# Model Training\r\n",
    "### In this notebook I have prepared functions for pre-processing the data and training the model that is chosen by the user "
   ],
   "metadata": {}
  },
  {
   "cell_type": "code",
   "execution_count": 2,
   "source": [
    "#Importing required libraries\r\n",
    "import numpy as np\r\n",
    "import pandas as pd\r\n",
    "import matplotlib.pyplot as plt\r\n",
    "%matplotlib inline"
   ],
   "outputs": [],
   "metadata": {}
  },
  {
   "cell_type": "code",
   "execution_count": 3,
   "source": [
    "from sklearn.model_selection import train_test_split\r\n",
    "from sklearn.linear_model import LinearRegression, LogisticRegression\r\n",
    "from sklearn.cluster import KMeans\r\n",
    "from sklearn.preprocessing import StandardScaler"
   ],
   "outputs": [],
   "metadata": {}
  },
  {
   "cell_type": "code",
   "execution_count": 4,
   "source": [
    "#For ignoring warnings\r\n",
    "import warnings\r\n",
    "warnings.filterwarnings(action='ignore')"
   ],
   "outputs": [],
   "metadata": {}
  },
  {
   "cell_type": "markdown",
   "source": [
    "# Data Pre-processing"
   ],
   "metadata": {}
  },
  {
   "cell_type": "code",
   "execution_count": 5,
   "source": [
    "#Reading the dataset\r\n",
    "df=pd.read_csv('forestfires.csv')"
   ],
   "outputs": [],
   "metadata": {}
  },
  {
   "cell_type": "code",
   "execution_count": 6,
   "source": [
    "#Function for pre-processing data according to regression or classification\r\n",
    "def preprocessing(df, task=\"regression\"):\r\n",
    "    df=pd.read_csv('forestfires.csv')\r\n",
    "    \r\n",
    "    #Converting String values of month and day into Integer\r\n",
    "    month = {'jan':1, 'feb':2, 'mar':3, 'apr':4, 'may':5, 'jun':6, 'jul':7, 'aug':8, 'sep':9, 'oct':10, 'nov':11, 'dec':12,}\r\n",
    "    df['month'] = df['month'].map(month)\r\n",
    "    day = {'sun':1, 'mon':2, 'tue':3, 'wed':4, 'thu':5, 'fri':6, 'sat':7,}\r\n",
    "    df['day'] = df['day'].map(day)\r\n",
    "    \r\n",
    "    #Converting target feature according to training model used\r\n",
    "    if(task==\"regression\"):\r\n",
    "        df['area']=np.log(df['area']+1) #Using Log Transformation to reduce skewness of the target feature\r\n",
    "\r\n",
    "        X = df.drop(\"area\", axis=1)\r\n",
    "        y = df['area']\r\n",
    "\r\n",
    "    #If model is classification, then converting area burnt into 1(if it is greater than 0) else 0\r\n",
    "    elif(task==\"classification\"): \r\n",
    "        X = df.drop(\"area\", axis=1)\r\n",
    "        y = df['area'].apply(lambda x:1 if x>0 else 0)\r\n",
    "\r\n",
    "    #If model is clustering, then storing values of two most important input features(DMC and temp)\r\n",
    "    elif(task==\"clustering\"): \r\n",
    "        X = df.iloc[1:500, [5,8]].values #Taking values of 2 most important features\r\n",
    "        y = None #Since clustering has no labelled data\r\n",
    "\r\n",
    "    else:\r\n",
    "        raise Exception(\"Enter regression, classification or clustering\")\r\n",
    "\r\n",
    "    #Scaling the input features\r\n",
    "    scaler=StandardScaler()\r\n",
    "    scaler.fit(X)\r\n",
    "    if(task==\"regression\" or task==\"classification\"):\r\n",
    "        X=pd.DataFrame(scaler.transform(X), columns=X.columns)\r\n",
    "\r\n",
    "    #Returning the Input and target features\r\n",
    "    return X, y"
   ],
   "outputs": [],
   "metadata": {}
  },
  {
   "cell_type": "markdown",
   "source": [
    "# Training the model"
   ],
   "metadata": {}
  },
  {
   "cell_type": "code",
   "execution_count": 7,
   "source": [
    "#Defining model training functions for regression and classification \r\n",
    "def supervised_method(X,y, task=\"regression\"):\r\n",
    "\r\n",
    "    #Splitting the dataset for training\r\n",
    "    X_train, X_test, y_train, y_test = train_test_split(X, y, train_size=0.7, shuffle=True, random_state=1)\r\n",
    "\r\n",
    "    #Training models according to input\r\n",
    "    if (task==\"regression\"):\r\n",
    "        model=LinearRegression()\r\n",
    "        model.fit(X_train,y_train)\r\n",
    "    elif (task==\"classification\"):\r\n",
    "        model=LogisticRegression()\r\n",
    "        model.fit(X_train,y_train)\r\n",
    "    else:\r\n",
    "        raise Exception(\"Enter regression or classification\")\r\n",
    "\r\n",
    "    #Returning the trained model\r\n",
    "    return model"
   ],
   "outputs": [],
   "metadata": {}
  },
  {
   "cell_type": "code",
   "execution_count": 8,
   "source": [
    "#Defining model training functions for clustering \r\n",
    "def unsupervised_method(X):\r\n",
    "\r\n",
    "    #Clustering the dataset\r\n",
    "    model = KMeans(n_clusters=4, init='random', random_state=0)\r\n",
    "    y_km = model.fit_predict(X)\r\n",
    "\r\n",
    "    #Plotting the model\r\n",
    "    plt.scatter(X[y_km==0,0],X[y_km==0,1],s=20,c='green',marker='x',label='Very low Fire')\r\n",
    "    plt.scatter(X[y_km==1,0],X[y_km==1,1],s=20,c='orange',marker='x',label='Low Fire')\r\n",
    "    plt.scatter(X[y_km==2,0],X[y_km==2,1],s=20,c='blue',marker='x',label='Medium Fire')\r\n",
    "    plt.scatter(X[y_km==3,0],X[y_km==3,1],s=20,c='black',marker='x',label='High Fire')\r\n",
    "    plt.scatter(model.cluster_centers_[:,0],model.cluster_centers_[:,1],s=250,marker='*',c='red',label='centroids')\r\n",
    "    plt.legend()\r\n",
    "    plt.xlabel('DMC')\r\n",
    "    plt.ylabel('Temp')\r\n",
    "    plt.grid()\r\n",
    "    plt.show()\r\n",
    "\r\n",
    "    #Returning the model\r\n",
    "    return model\r\n"
   ],
   "outputs": [],
   "metadata": {}
  },
  {
   "cell_type": "markdown",
   "source": [
    "# Regression(Linear Regression)"
   ],
   "metadata": {}
  },
  {
   "cell_type": "code",
   "execution_count": 9,
   "source": [
    "#Storing input and target features\r\n",
    "X, y = preprocessing(df, task=\"regression\")"
   ],
   "outputs": [],
   "metadata": {}
  },
  {
   "cell_type": "code",
   "execution_count": 10,
   "source": [
    "#Calling the function to store the trained model\r\n",
    "supervised_model = supervised_method(X,y, task=\"regression\")\r\n",
    "supervised_model"
   ],
   "outputs": [
    {
     "output_type": "execute_result",
     "data": {
      "text/plain": [
       "LinearRegression(copy_X=True, fit_intercept=True, n_jobs=None, normalize=False)"
      ]
     },
     "metadata": {},
     "execution_count": 10
    }
   ],
   "metadata": {}
  },
  {
   "cell_type": "markdown",
   "source": [
    "# Classification(Logistic Regression)"
   ],
   "metadata": {}
  },
  {
   "cell_type": "code",
   "execution_count": 11,
   "source": [
    "#Storing input and target features\r\n",
    "X, y = preprocessing(df, task=\"classification\")"
   ],
   "outputs": [],
   "metadata": {}
  },
  {
   "cell_type": "code",
   "execution_count": 12,
   "source": [
    "#Calling the function to store the trained model\r\n",
    "supervised_model = supervised_method(X,y, task=\"classification\")\r\n",
    "supervised_model"
   ],
   "outputs": [
    {
     "output_type": "execute_result",
     "data": {
      "text/plain": [
       "LogisticRegression(C=1.0, class_weight=None, dual=False, fit_intercept=True,\n",
       "                   intercept_scaling=1, l1_ratio=None, max_iter=100,\n",
       "                   multi_class='warn', n_jobs=None, penalty='l2',\n",
       "                   random_state=None, solver='warn', tol=0.0001, verbose=0,\n",
       "                   warm_start=False)"
      ]
     },
     "metadata": {},
     "execution_count": 12
    }
   ],
   "metadata": {}
  },
  {
   "cell_type": "markdown",
   "source": [
    "# Clustering(KMeans Clustering)\n",
    "### Since KMeans Clustering is all about predicting into which cluster the data will fall, I have plotted a scatterplot to show the trained model in the training code"
   ],
   "metadata": {}
  },
  {
   "cell_type": "code",
   "execution_count": 13,
   "source": [
    "#Storing input and target features\r\n",
    "X, y = preprocessing(df, task=\"clustering\")"
   ],
   "outputs": [],
   "metadata": {}
  },
  {
   "cell_type": "code",
   "execution_count": 14,
   "source": [
    "unsupervised_model = unsupervised_method(X)\r\n",
    "unsupervised_model"
   ],
   "outputs": [
    {
     "output_type": "display_data",
     "data": {
      "text/plain": [
       "<Figure size 432x288 with 1 Axes>"
      ],
      "image/png": "[encoded data removed]"
     },
     "metadata": {
      "needs_background": "light"
     }
    },
    {
     "output_type": "execute_result",
     "data": {
      "text/plain": [
       "KMeans(algorithm='auto', copy_x=True, init='random', max_iter=300, n_clusters=4,\n",
       "       n_init=10, n_jobs=None, precompute_distances='auto', random_state=0,\n",
       "       tol=0.0001, verbose=0)"
      ]
     },
     "metadata": {},
     "execution_count": 14
    }
   ],
   "metadata": {}
  }
 ],
 "metadata": {
  "interpreter": {
   "hash": "42ed8e3e7f22d40cdae13fff2ca63bf4c5f9a6091a694ed001eb6db1075f2cae"
  },
  "kernelspec": {
   "name": "python3",
   "display_name": "Python 3.7.4 64-bit ('base': conda)"
  },
  "language_info": {
   "codemirror_mode": {
    "name": "ipython",
    "version": 3
   },
   "file_extension": ".py",
   "mimetype": "text/x-python",
   "name": "python",
   "nbconvert_exporter": "python",
   "pygments_lexer": "ipython3",
   "version": "3.7.4"
  }
 },
 "nbformat": 4,
 "nbformat_minor": 2
}
